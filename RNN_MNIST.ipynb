{
 "cells": [
  {
   "cell_type": "code",
   "execution_count": 18,
   "metadata": {},
   "outputs": [],
   "source": [
    "import torch\n",
    "import torchvision\n",
    "import torch.nn as nn\n",
    "import torch.optim as optim\n",
    "import torch.nn.functional as F\n",
    "from torch.utils.data import DataLoader\n",
    "import torchvision.datasets as datasets\n",
    "import torchvision.transforms as transforms"
   ]
  },
  {
   "cell_type": "markdown",
   "metadata": {},
   "source": [
    "#### Loading data"
   ]
  },
  {
   "cell_type": "code",
   "execution_count": 19,
   "metadata": {},
   "outputs": [],
   "source": [
    "train_dataset = datasets.MNIST(root='dataset/', train=True,\n",
    "                              transform=transforms.ToTensor(), download=True)\n",
    "test_dataset = datasets.MNIST(root='dataset/', train=False,\n",
    "                             transform=transforms.ToTensor(), download=True)"
   ]
  },
  {
   "cell_type": "markdown",
   "metadata": {},
   "source": [
    "### HyperParameters"
   ]
  },
  {
   "cell_type": "code",
   "execution_count": 20,
   "metadata": {},
   "outputs": [],
   "source": [
    "input_size = 28\n",
    "sequence_length = 28\n",
    "num_layers = 2\n",
    "hidden_size = 256\n",
    "epochs = 2\n",
    "batch_size = 64\n",
    "num_classes = 10\n",
    "learning_rate =0.001"
   ]
  },
  {
   "cell_type": "markdown",
   "metadata": {},
   "source": [
    "### Creating DataLoaders"
   ]
  },
  {
   "cell_type": "code",
   "execution_count": 21,
   "metadata": {},
   "outputs": [],
   "source": [
    "train_dataloader = DataLoader(dataset=train_dataset, batch_size=batch_size, shuffle=True)\n",
    "test_dataloader = DataLoader(dataset=test_dataset, batch_size=batch_size, shuffle=False)"
   ]
  },
  {
   "cell_type": "markdown",
   "metadata": {},
   "source": [
    "### Create the RNN Model"
   ]
  },
  {
   "cell_type": "code",
   "execution_count": 22,
   "metadata": {},
   "outputs": [],
   "source": [
    "class RNN(nn.Module):\n",
    "    def __init__(self, input_size, hidden_size, num_layers, num_classes):\n",
    "        super(RNN, self).__init__()\n",
    "        self.hidden_size = hidden_size\n",
    "        self.num_layers = num_layers\n",
    "        self.rnn = nn.RNN(input_size, hidden_size, num_layers, batch_first=True)\n",
    "        self.fc = nn.Linear(hidden_size * sequence_length, num_classes)\n",
    "    def forward(self, x):\n",
    "        h0 = torch.zeros(self.num_layers, x.size(0), self.hidden_size)\n",
    "        #Forward prop\n",
    "        out,_ = self.rnn(x, h0)\n",
    "        out = out.reshape(out.shape[0], -1)\n",
    "        out = self.fc(out)\n",
    "        return out"
   ]
  },
  {
   "cell_type": "code",
   "execution_count": 23,
   "metadata": {},
   "outputs": [],
   "source": [
    "model = RNN(input_size, hidden_size, num_layers, num_classes)"
   ]
  },
  {
   "cell_type": "markdown",
   "metadata": {},
   "source": [
    "### Loss and Optimizer"
   ]
  },
  {
   "cell_type": "code",
   "execution_count": 24,
   "metadata": {},
   "outputs": [],
   "source": [
    "criterion = nn.CrossEntropyLoss()\n",
    "optimizer = optim.Adam(model.parameters(), lr=learning_rate)"
   ]
  },
  {
   "cell_type": "markdown",
   "metadata": {},
   "source": [
    "### Training"
   ]
  },
  {
   "cell_type": "code",
   "execution_count": 25,
   "metadata": {},
   "outputs": [
    {
     "name": "stdout",
     "output_type": "stream",
     "text": [
      "Epoch:0, Batch Number:49, Loss=0.2672605812549591\n",
      "Epoch:0, Batch Number:99, Loss=0.31670960783958435\n",
      "Epoch:0, Batch Number:149, Loss=0.3653744161128998\n",
      "Epoch:0, Batch Number:199, Loss=0.4004823863506317\n",
      "Epoch:0, Batch Number:249, Loss=0.1081690713763237\n",
      "Epoch:0, Batch Number:299, Loss=0.1712498664855957\n",
      "Epoch:0, Batch Number:349, Loss=0.5119423866271973\n",
      "Epoch:0, Batch Number:399, Loss=0.26457279920578003\n",
      "Epoch:0, Batch Number:449, Loss=0.2853630483150482\n",
      "Epoch:0, Batch Number:499, Loss=0.31032976508140564\n",
      "Epoch:0, Batch Number:549, Loss=0.12149421125650406\n",
      "Epoch:0, Batch Number:599, Loss=0.16274918615818024\n",
      "Epoch:0, Batch Number:649, Loss=0.2640329897403717\n",
      "Epoch:0, Batch Number:699, Loss=0.04390516132116318\n",
      "Epoch:0, Batch Number:749, Loss=0.20299088954925537\n",
      "Epoch:0, Batch Number:799, Loss=0.18193213641643524\n",
      "Epoch:0, Batch Number:849, Loss=0.15093453228473663\n",
      "Epoch:0, Batch Number:899, Loss=0.027932429686188698\n",
      "Epoch:1, Batch Number:49, Loss=0.14121529459953308\n",
      "Epoch:1, Batch Number:99, Loss=0.11531799286603928\n",
      "Epoch:1, Batch Number:149, Loss=0.11590375006198883\n",
      "Epoch:1, Batch Number:199, Loss=0.11749765276908875\n",
      "Epoch:1, Batch Number:249, Loss=0.17282451689243317\n",
      "Epoch:1, Batch Number:299, Loss=0.3119008541107178\n",
      "Epoch:1, Batch Number:349, Loss=0.01594073884189129\n",
      "Epoch:1, Batch Number:399, Loss=0.10824751853942871\n",
      "Epoch:1, Batch Number:449, Loss=0.16663885116577148\n",
      "Epoch:1, Batch Number:499, Loss=0.15311509370803833\n",
      "Epoch:1, Batch Number:549, Loss=0.20195813477039337\n",
      "Epoch:1, Batch Number:599, Loss=0.21177540719509125\n",
      "Epoch:1, Batch Number:649, Loss=0.09230417758226395\n",
      "Epoch:1, Batch Number:699, Loss=0.03685583919286728\n",
      "Epoch:1, Batch Number:749, Loss=0.176500141620636\n",
      "Epoch:1, Batch Number:799, Loss=0.039475373923778534\n",
      "Epoch:1, Batch Number:849, Loss=0.12106440961360931\n",
      "Epoch:1, Batch Number:899, Loss=0.121771901845932\n",
      "Finished Training!\n"
     ]
    }
   ],
   "source": [
    "for epoch in range(epochs):\n",
    "    for batch_idx, (input_data, labels) in enumerate(train_dataloader):\n",
    "        input_data = input_data.squeeze(1)\n",
    "        output = model(input_data)\n",
    "        loss = criterion(output, labels)\n",
    "        optimizer.zero_grad()\n",
    "        loss.backward()\n",
    "        optimizer.step()\n",
    "        \n",
    "        if batch_idx%50==49:\n",
    "            print(f'Epoch:{epoch}, Batch Number:{batch_idx}, Loss={loss.item()}')\n",
    "print('Finished Training!')            "
   ]
  },
  {
   "cell_type": "code",
   "execution_count": 26,
   "metadata": {},
   "outputs": [],
   "source": [
    "def check_accuracy(loader, model):\n",
    "    if loader.dataset.train:\n",
    "        print('Checking accuracy on training data')\n",
    "    else:\n",
    "        print('Checking accuracy on testing data')\n",
    "    \n",
    "    correct = 0\n",
    "    total = 0\n",
    "    model.eval()\n",
    "    \n",
    "    with torch.no_grad():\n",
    "        for x, y in loader:\n",
    "            x = x.squeeze(1)\n",
    "            \n",
    "            scores = model(x)\n",
    "            \n",
    "            _, predictions = scores.max(1)\n",
    "            correct += (predictions==y).sum()\n",
    "            total += predictions.size(0)\n",
    "        print(f'Got {correct} / {total} with accuracy {float(correct)/float(total) * 100:.2f}') \n",
    "    \n",
    "    model.train()    "
   ]
  },
  {
   "cell_type": "code",
   "execution_count": 27,
   "metadata": {},
   "outputs": [
    {
     "name": "stdout",
     "output_type": "stream",
     "text": [
      "Checking accuracy on training data\n",
      "Got 58260 / 60000 with accuracy 97.10\n",
      "Checking accuracy on testing data\n",
      "Got 9675 / 10000 with accuracy 96.75\n"
     ]
    }
   ],
   "source": [
    "check_accuracy(train_dataloader, model)\n",
    "check_accuracy(test_dataloader, model)"
   ]
  },
  {
   "cell_type": "code",
   "execution_count": null,
   "metadata": {},
   "outputs": [],
   "source": []
  }
 ],
 "metadata": {
  "kernelspec": {
   "display_name": "Python 3",
   "language": "python",
   "name": "python3"
  },
  "language_info": {
   "codemirror_mode": {
    "name": "ipython",
    "version": 3
   },
   "file_extension": ".py",
   "mimetype": "text/x-python",
   "name": "python",
   "nbconvert_exporter": "python",
   "pygments_lexer": "ipython3",
   "version": "3.8.5"
  }
 },
 "nbformat": 4,
 "nbformat_minor": 4
}
